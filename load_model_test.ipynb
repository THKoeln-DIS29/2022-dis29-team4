{
 "cells": [
  {
   "cell_type": "code",
   "execution_count": 1,
   "metadata": {},
   "outputs": [],
   "source": [
    "import pandas as pd\n",
    "import seaborn as sns\n",
    "import numpy as np\n",
    "import matplotlib.pyplot as plt\n",
    "import pickle\n",
    "\n",
    "from sklearn.model_selection import train_test_split\n",
    "from sklearn.metrics import accuracy_score\n",
    "from sklearn.metrics import f1_score\n",
    "from sklearn.model_selection import cross_val_score\n",
    "from sklearn.datasets import make_classification\n",
    "from numpy import asarray\n",
    "from sklearn.preprocessing import scale\n",
    "\n",
    "from sklearn.model_selection import GridSearchCV\n",
    "from sklearn.tree import DecisionTreeClassifier\n",
    "from sklearn import tree\n",
    "\n",
    "\n"
   ]
  },
  {
   "cell_type": "code",
   "execution_count": 2,
   "metadata": {},
   "outputs": [],
   "source": [
    "data = pd.read_csv('features.csv')\n",
    "# Delete unesessary features from dataset\n",
    "data = data.dropna()\n",
    "data = data.drop(['enterworld_num','buyitemnowmainauction_num','completechallengeweek_num'],axis=1)\n",
    "data = data.drop(['actor_account_id'\n",
    "                    ,'survival_time'\n",
    "                    ],axis=1)\n",
    "data = data.drop(columns=data.columns[0],axis=1)\n",
    "# Setup & split dataset for training\n",
    "X = data.copy()\n",
    "y = X.pop('churn_yn')\n",
    "# Get feature names from training set\n",
    "feature_names = [f\"feature {i}\" for i in range(X.shape[1])]\n"
   ]
  },
  {
   "cell_type": "code",
   "execution_count": 3,
   "metadata": {},
   "outputs": [],
   "source": [
    "loaded_model = pickle.load(open('tree_model.sav', 'rb'))\n"
   ]
  },
  {
   "cell_type": "code",
   "execution_count": 4,
   "metadata": {},
   "outputs": [
    {
     "name": "stdout",
     "output_type": "stream",
     "text": [
      "F1 Score\n",
      "Mean F1: 0.5181893153441632\n",
      "Std F1 score 0.03752975742713998\n",
      "CrossValidation Scores: \n",
      "[0.7638191  0.75251256 0.73994975 0.74246231 0.73366834]\n",
      "0.75 accuracy with a standard deviation of 0.01\n"
     ]
    }
   ],
   "source": [
    "#F1-score\n",
    "print(\"F1 Score\")\n",
    "mean_score = cross_val_score(loaded_model, X, y, scoring=\"f1\", cv = 10).mean()\n",
    "std_score = cross_val_score(loaded_model, X, y, scoring=\"f1\", cv = 10).std()\n",
    "print('Mean F1:', mean_score)\n",
    "print('Std F1 score', std_score)\n",
    "#Cross validation\n",
    "scores = cross_val_score(loaded_model, X, y, cv=5)\n",
    "print(\"CrossValidation Scores: \")\n",
    "print(scores)\n",
    "print(\"%0.2f accuracy with a standard deviation of %0.2f\" % (scores.mean(), scores.std()))"
   ]
  },
  {
   "cell_type": "code",
   "execution_count": 7,
   "metadata": {},
   "outputs": [
    {
     "name": "stderr",
     "output_type": "stream",
     "text": [
      "2023-01-03 20:31:00.159 Python[18636:434544] +[CATransaction synchronize] called within transaction\n",
      "2023-01-03 20:31:00.161 Python[18636:434544] +[CATransaction synchronize] called within transaction\n",
      "2023-01-03 20:31:00.200 Python[18636:434544] +[CATransaction synchronize] called within transaction\n",
      "2023-01-03 20:31:02.402 Python[18636:434544] +[CATransaction synchronize] called within transaction\n"
     ]
    },
    {
     "name": "stdout",
     "output_type": "stream",
     "text": [
      "The File is located at : /Users/kakaoohnehose/GitHub/2022-dis29-team4/forest_model.sav\n"
     ]
    }
   ],
   "source": [
    "# Import the required Libraries\n",
    "from tkinter import *\n",
    "from tkinter import ttk, filedialog\n",
    "from tkinter.filedialog import askopenfile\n",
    "import os\n",
    "\n",
    "file = filedialog.askopenfile(mode='r', filetypes=[('Pickle Model Files', '*.sav')])\n",
    "if file:\n",
    "    filepath = os.path.abspath(file.name)\n",
    "print(\"The File is located at : \" + str(filepath))\n"
   ]
  },
  {
   "cell_type": "code",
   "execution_count": null,
   "metadata": {},
   "outputs": [],
   "source": []
  }
 ],
 "metadata": {
  "kernelspec": {
   "display_name": "Python 3",
   "language": "python",
   "name": "python3"
  },
  "language_info": {
   "codemirror_mode": {
    "name": "ipython",
    "version": 3
   },
   "file_extension": ".py",
   "mimetype": "text/x-python",
   "name": "python",
   "nbconvert_exporter": "python",
   "pygments_lexer": "ipython3",
   "version": "3.11.0"
  },
  "orig_nbformat": 4,
  "vscode": {
   "interpreter": {
    "hash": "949777d72b0d2535278d3dc13498b2535136f6dfe0678499012e853ee9abcab1"
   }
  }
 },
 "nbformat": 4,
 "nbformat_minor": 2
}
