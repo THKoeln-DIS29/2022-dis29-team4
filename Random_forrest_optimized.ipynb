{
 "cells": [
  {
   "attachments": {},
   "cell_type": "markdown",
   "metadata": {},
   "source": [
    "## Import"
   ]
  },
  {
   "cell_type": "code",
   "execution_count": 23,
   "metadata": {},
   "outputs": [],
   "source": [
    "import pandas as pd\n",
    "import seaborn as sns\n",
    "import numpy as np\n",
    "import matplotlib.pyplot as plt\n",
    "import pickle\n",
    "\n",
    "from sklearn.model_selection import train_test_split\n",
    "from sklearn.metrics import accuracy_score\n",
    "from sklearn.metrics import f1_score\n",
    "from sklearn.model_selection import cross_val_score\n",
    "from sklearn.datasets import make_classification\n",
    "from sklearn.inspection import permutation_importance\n",
    "from sklearn.model_selection import GridSearchCV\n",
    "\n",
    "\n",
    "from sklearn import tree\n",
    "from sklearn.ensemble import RandomForestClassifier\n",
    "\n"
   ]
  },
  {
   "attachments": {},
   "cell_type": "markdown",
   "metadata": {},
   "source": [
    "## Load data"
   ]
  },
  {
   "cell_type": "code",
   "execution_count": 24,
   "metadata": {},
   "outputs": [
    {
     "name": "stdout",
     "output_type": "stream",
     "text": [
      "(995, 36) (995,)\n",
      "(2985, 36) (2985,)\n"
     ]
    }
   ],
   "source": [
    "data = pd.read_csv('features.csv')\n",
    "# Delete unesessary features from dataset\n",
    "data = data.dropna()\n",
    "#data = data.drop(['enterworld_num','buyitemnowmainauction_num','completechallengeweek_num'],axis=1)\n",
    "data = data.drop(['actor_account_id'\n",
    "                    ,'survival_time'\n",
    "                    ],axis=1)\n",
    "data = data.drop(columns=data.columns[0],axis=1)\n",
    "# Setup & split dataset for training\n",
    "X = data.copy()\n",
    "y = X.pop('churn_yn')\n",
    "X_train, X_test, y_train, y_test = train_test_split(X, y, random_state = 100)\n",
    "# Print training data shape\n",
    "print(X_test.shape, y_test.shape)\n",
    "print(X_train.shape, y_train.shape)\n",
    "# Get feature names from training set\n",
    "feature_names = [f\"feature {i}\" for i in range(X.shape[1])]"
   ]
  },
  {
   "cell_type": "code",
   "execution_count": 25,
   "metadata": {},
   "outputs": [],
   "source": [
    "forest = RandomForestClassifier(random_state=0)\n",
    "forest.fit(X_train, y_train)\n",
    "predictions = forest.predict(X_test)"
   ]
  },
  {
   "cell_type": "code",
   "execution_count": 26,
   "metadata": {},
   "outputs": [
    {
     "name": "stdout",
     "output_type": "stream",
     "text": [
      "F1 Score\n",
      "Mean F1: 0.545307406752021\n",
      "Std F1 score 0.03389820745289171\n",
      "CrossValidation Scores: \n",
      "[0.78015075 0.74371859 0.79271357 0.75125628 0.7701005 ]\n",
      "0.77 accuracy with a standard deviation of 0.02\n"
     ]
    }
   ],
   "source": [
    "#F1-score\n",
    "print(\"F1 Score\")\n",
    "mean_score = cross_val_score(forest, X, y, scoring=\"f1\", cv = 10).mean()\n",
    "std_score = cross_val_score(forest, X, y, scoring=\"f1\", cv = 10).std()\n",
    "print('Mean F1:', mean_score)\n",
    "print('Std F1 score', std_score)\n",
    "#Cross validation\n",
    "scores = cross_val_score(forest, X, y, cv=5)\n",
    "print(\"CrossValidation Scores: \")\n",
    "print(scores)\n",
    "print(\"%0.2f accuracy with a standard deviation of %0.2f\" % (scores.mean(), scores.std()))"
   ]
  },
  {
   "cell_type": "code",
   "execution_count": 27,
   "metadata": {},
   "outputs": [],
   "source": [
    "result = permutation_importance(\n",
    "    forest, X_test, y_test, n_repeats=10, random_state=100, n_jobs=2)"
   ]
  },
  {
   "cell_type": "code",
   "execution_count": 29,
   "metadata": {},
   "outputs": [
    {
     "name": "stdout",
     "output_type": "stream",
     "text": [
      "['event_num' 'enterworld_num' 'levelup_num' 'joinparty_num'\n",
      " 'spendmoney_num' 'churn_yn']\n"
     ]
    }
   ],
   "source": [
    "num = 5\n",
    "feat_importances_p = pd.DataFrame(result.importances_mean, index=forest.feature_names_in_, columns=[\"Importance\"])\n",
    "feat_importances_p['index1'] = feat_importances_p.index\n",
    "top = feat_importances_p['index1'].iloc[:num].values\n",
    "#flop = feat_importances_p['index1'].iloc[-num:].values\n",
    "a=\"churn_yn\"\n",
    "topflop = np.append(top,a)\n",
    "#topflop = np.append(topflop,a)\n",
    "print(topflop)\n"
   ]
  },
  {
   "cell_type": "code",
   "execution_count": 30,
   "metadata": {},
   "outputs": [
    {
     "name": "stdout",
     "output_type": "stream",
     "text": [
      "      churn_yn  event_num  enterworld_num  levelup_num  joinparty_num  \\\n",
      "1          0.0    39385.0           193.0          5.0          176.0   \n",
      "2          0.0    37423.0           176.0         19.0          148.0   \n",
      "3          0.0    33900.0           102.0         74.0          104.0   \n",
      "4          0.0    49063.0           237.0          0.0          273.0   \n",
      "5          1.0     4608.0            28.0          0.0           12.0   \n",
      "...        ...        ...             ...          ...            ...   \n",
      "4015       1.0    37206.0           176.0         39.0           54.0   \n",
      "4016       1.0     4932.0             6.0          5.0            0.0   \n",
      "4017       0.0    28439.0           122.0        106.0            4.0   \n",
      "4018       0.0   103938.0           894.0          6.0          410.0   \n",
      "4019       0.0    63198.0           322.0          0.0          255.0   \n",
      "\n",
      "      spendmoney_num  \n",
      "1             1358.0  \n",
      "2              907.0  \n",
      "3              540.0  \n",
      "4              470.0  \n",
      "5              190.0  \n",
      "...              ...  \n",
      "4015          2114.0  \n",
      "4016            44.0  \n",
      "4017           934.0  \n",
      "4018          3120.0  \n",
      "4019          2481.0  \n",
      "\n",
      "[3980 rows x 6 columns]\n",
      "(995, 5) (995,)\n",
      "(2985, 5) (2985,)\n"
     ]
    }
   ],
   "source": [
    "data = pd.read_csv('features.csv',usecols= topflop)\n",
    "data = data.dropna()\n",
    "print(data)\n",
    "# Setup & split dataset for training\n",
    "X = data.copy()\n",
    "y = X.pop('churn_yn')\n",
    "X_train, X_test, y_train, y_test = train_test_split(X, y, random_state = 100)\n",
    "# Print training data shape\n",
    "print(X_test.shape, y_test.shape)\n",
    "print(X_train.shape, y_train.shape)\n",
    "# Get feature names from training set\n",
    "feature_names = [f\"feature {i}\" for i in range(X.shape[1])]"
   ]
  },
  {
   "cell_type": "code",
   "execution_count": 33,
   "metadata": {},
   "outputs": [],
   "source": [
    "param_grid = { \n",
    "    'n_estimators': range(900, 1200,100),\n",
    "    'max_features': ['sqrt','log2'],\n",
    "    'max_depth' : range(5,20,5),\n",
    "    'criterion' :['gini','entropy']\n",
    "}"
   ]
  },
  {
   "cell_type": "code",
   "execution_count": 34,
   "metadata": {},
   "outputs": [
    {
     "data": {
      "text/html": [
       "<style>#sk-container-id-2 {color: black;background-color: white;}#sk-container-id-2 pre{padding: 0;}#sk-container-id-2 div.sk-toggleable {background-color: white;}#sk-container-id-2 label.sk-toggleable__label {cursor: pointer;display: block;width: 100%;margin-bottom: 0;padding: 0.3em;box-sizing: border-box;text-align: center;}#sk-container-id-2 label.sk-toggleable__label-arrow:before {content: \"▸\";float: left;margin-right: 0.25em;color: #696969;}#sk-container-id-2 label.sk-toggleable__label-arrow:hover:before {color: black;}#sk-container-id-2 div.sk-estimator:hover label.sk-toggleable__label-arrow:before {color: black;}#sk-container-id-2 div.sk-toggleable__content {max-height: 0;max-width: 0;overflow: hidden;text-align: left;background-color: #f0f8ff;}#sk-container-id-2 div.sk-toggleable__content pre {margin: 0.2em;color: black;border-radius: 0.25em;background-color: #f0f8ff;}#sk-container-id-2 input.sk-toggleable__control:checked~div.sk-toggleable__content {max-height: 200px;max-width: 100%;overflow: auto;}#sk-container-id-2 input.sk-toggleable__control:checked~label.sk-toggleable__label-arrow:before {content: \"▾\";}#sk-container-id-2 div.sk-estimator input.sk-toggleable__control:checked~label.sk-toggleable__label {background-color: #d4ebff;}#sk-container-id-2 div.sk-label input.sk-toggleable__control:checked~label.sk-toggleable__label {background-color: #d4ebff;}#sk-container-id-2 input.sk-hidden--visually {border: 0;clip: rect(1px 1px 1px 1px);clip: rect(1px, 1px, 1px, 1px);height: 1px;margin: -1px;overflow: hidden;padding: 0;position: absolute;width: 1px;}#sk-container-id-2 div.sk-estimator {font-family: monospace;background-color: #f0f8ff;border: 1px dotted black;border-radius: 0.25em;box-sizing: border-box;margin-bottom: 0.5em;}#sk-container-id-2 div.sk-estimator:hover {background-color: #d4ebff;}#sk-container-id-2 div.sk-parallel-item::after {content: \"\";width: 100%;border-bottom: 1px solid gray;flex-grow: 1;}#sk-container-id-2 div.sk-label:hover label.sk-toggleable__label {background-color: #d4ebff;}#sk-container-id-2 div.sk-serial::before {content: \"\";position: absolute;border-left: 1px solid gray;box-sizing: border-box;top: 0;bottom: 0;left: 50%;z-index: 0;}#sk-container-id-2 div.sk-serial {display: flex;flex-direction: column;align-items: center;background-color: white;padding-right: 0.2em;padding-left: 0.2em;position: relative;}#sk-container-id-2 div.sk-item {position: relative;z-index: 1;}#sk-container-id-2 div.sk-parallel {display: flex;align-items: stretch;justify-content: center;background-color: white;position: relative;}#sk-container-id-2 div.sk-item::before, #sk-container-id-2 div.sk-parallel-item::before {content: \"\";position: absolute;border-left: 1px solid gray;box-sizing: border-box;top: 0;bottom: 0;left: 50%;z-index: -1;}#sk-container-id-2 div.sk-parallel-item {display: flex;flex-direction: column;z-index: 1;position: relative;background-color: white;}#sk-container-id-2 div.sk-parallel-item:first-child::after {align-self: flex-end;width: 50%;}#sk-container-id-2 div.sk-parallel-item:last-child::after {align-self: flex-start;width: 50%;}#sk-container-id-2 div.sk-parallel-item:only-child::after {width: 0;}#sk-container-id-2 div.sk-dashed-wrapped {border: 1px dashed gray;margin: 0 0.4em 0.5em 0.4em;box-sizing: border-box;padding-bottom: 0.4em;background-color: white;}#sk-container-id-2 div.sk-label label {font-family: monospace;font-weight: bold;display: inline-block;line-height: 1.2em;}#sk-container-id-2 div.sk-label-container {text-align: center;}#sk-container-id-2 div.sk-container {/* jupyter's `normalize.less` sets `[hidden] { display: none; }` but bootstrap.min.css set `[hidden] { display: none !important; }` so we also need the `!important` here to be able to override the default hidden behavior on the sphinx rendered scikit-learn.org. See: https://github.com/scikit-learn/scikit-learn/issues/21755 */display: inline-block !important;position: relative;}#sk-container-id-2 div.sk-text-repr-fallback {display: none;}</style><div id=\"sk-container-id-2\" class=\"sk-top-container\"><div class=\"sk-text-repr-fallback\"><pre>GridSearchCV(cv=5, estimator=RandomForestClassifier(random_state=0),\n",
       "             param_grid={&#x27;criterion&#x27;: [&#x27;gini&#x27;, &#x27;entropy&#x27;],\n",
       "                         &#x27;max_depth&#x27;: range(5, 20, 5),\n",
       "                         &#x27;max_features&#x27;: [&#x27;sqrt&#x27;, &#x27;log2&#x27;],\n",
       "                         &#x27;n_estimators&#x27;: range(900, 1200, 100)})</pre><b>In a Jupyter environment, please rerun this cell to show the HTML representation or trust the notebook. <br />On GitHub, the HTML representation is unable to render, please try loading this page with nbviewer.org.</b></div><div class=\"sk-container\" hidden><div class=\"sk-item sk-dashed-wrapped\"><div class=\"sk-label-container\"><div class=\"sk-label sk-toggleable\"><input class=\"sk-toggleable__control sk-hidden--visually\" id=\"sk-estimator-id-4\" type=\"checkbox\" ><label for=\"sk-estimator-id-4\" class=\"sk-toggleable__label sk-toggleable__label-arrow\">GridSearchCV</label><div class=\"sk-toggleable__content\"><pre>GridSearchCV(cv=5, estimator=RandomForestClassifier(random_state=0),\n",
       "             param_grid={&#x27;criterion&#x27;: [&#x27;gini&#x27;, &#x27;entropy&#x27;],\n",
       "                         &#x27;max_depth&#x27;: range(5, 20, 5),\n",
       "                         &#x27;max_features&#x27;: [&#x27;sqrt&#x27;, &#x27;log2&#x27;],\n",
       "                         &#x27;n_estimators&#x27;: range(900, 1200, 100)})</pre></div></div></div><div class=\"sk-parallel\"><div class=\"sk-parallel-item\"><div class=\"sk-item\"><div class=\"sk-label-container\"><div class=\"sk-label sk-toggleable\"><input class=\"sk-toggleable__control sk-hidden--visually\" id=\"sk-estimator-id-5\" type=\"checkbox\" ><label for=\"sk-estimator-id-5\" class=\"sk-toggleable__label sk-toggleable__label-arrow\">estimator: RandomForestClassifier</label><div class=\"sk-toggleable__content\"><pre>RandomForestClassifier(random_state=0)</pre></div></div></div><div class=\"sk-serial\"><div class=\"sk-item\"><div class=\"sk-estimator sk-toggleable\"><input class=\"sk-toggleable__control sk-hidden--visually\" id=\"sk-estimator-id-6\" type=\"checkbox\" ><label for=\"sk-estimator-id-6\" class=\"sk-toggleable__label sk-toggleable__label-arrow\">RandomForestClassifier</label><div class=\"sk-toggleable__content\"><pre>RandomForestClassifier(random_state=0)</pre></div></div></div></div></div></div></div></div></div></div>"
      ],
      "text/plain": [
       "GridSearchCV(cv=5, estimator=RandomForestClassifier(random_state=0),\n",
       "             param_grid={'criterion': ['gini', 'entropy'],\n",
       "                         'max_depth': range(5, 20, 5),\n",
       "                         'max_features': ['sqrt', 'log2'],\n",
       "                         'n_estimators': range(900, 1200, 100)})"
      ]
     },
     "execution_count": 34,
     "metadata": {},
     "output_type": "execute_result"
    }
   ],
   "source": [
    "forest = RandomForestClassifier(random_state=0)\n",
    "CV_rfc = GridSearchCV(estimator=forest,param_grid=param_grid, cv= 5)\n",
    "CV_rfc.fit(X_train, y_train)\n",
    "\n"
   ]
  },
  {
   "cell_type": "code",
   "execution_count": 13,
   "metadata": {},
   "outputs": [
    {
     "name": "stdout",
     "output_type": "stream",
     "text": [
      "{'criterion': 'entropy', 'max_depth': 6, 'max_features': 'sqrt', 'n_estimators': 1000}\n"
     ]
    }
   ],
   "source": [
    "print(CV_rfc.best_params_)\n",
    "param_grid=CV_rfc.best_params_"
   ]
  },
  {
   "cell_type": "code",
   "execution_count": 31,
   "metadata": {},
   "outputs": [],
   "source": [
    "forest = RandomForestClassifier(random_state=0,criterion='entropy', max_depth=6,max_features='sqrt',n_estimators=1000)\n",
    "forest.fit(X_train, y_train)\n",
    "predictions = forest.predict(X_test)"
   ]
  },
  {
   "cell_type": "code",
   "execution_count": 32,
   "metadata": {},
   "outputs": [
    {
     "name": "stdout",
     "output_type": "stream",
     "text": [
      "F1 Score\n",
      "Mean F1: 0.5395930088716849\n",
      "Std F1 score 0.03398441786418995\n",
      "CrossValidation Scores: \n",
      "[0.79271357 0.76256281 0.77512563 0.75125628 0.75753769]\n",
      "0.77 accuracy with a standard deviation of 0.01\n"
     ]
    }
   ],
   "source": [
    "#F1-score\n",
    "print(\"F1 Score\")\n",
    "mean_score = cross_val_score(forest, X, y, scoring=\"f1\", cv = 5).mean()\n",
    "std_score = cross_val_score(forest, X, y, scoring=\"f1\", cv = 5).std()\n",
    "print('Mean F1:', mean_score)\n",
    "print('Std F1 score', std_score)\n",
    "#Cross validation\n",
    "scores = cross_val_score(forest, X, y, cv=5)\n",
    "print(\"CrossValidation Scores: \")\n",
    "print(scores)\n",
    "print(\"%0.2f accuracy with a standard deviation of %0.2f\" % (scores.mean(), scores.std()))"
   ]
  },
  {
   "cell_type": "code",
   "execution_count": 16,
   "metadata": {},
   "outputs": [],
   "source": [
    "filename = 'forest_model.sav'\n",
    "pickle.dump(forest, open(filename, 'wb'))"
   ]
  },
  {
   "cell_type": "code",
   "execution_count": null,
   "metadata": {},
   "outputs": [],
   "source": []
  }
 ],
 "metadata": {
  "kernelspec": {
   "display_name": "Python 3",
   "language": "python",
   "name": "python3"
  },
  "language_info": {
   "codemirror_mode": {
    "name": "ipython",
    "version": 3
   },
   "file_extension": ".py",
   "mimetype": "text/x-python",
   "name": "python",
   "nbconvert_exporter": "python",
   "pygments_lexer": "ipython3",
   "version": "3.11.0"
  },
  "orig_nbformat": 4,
  "vscode": {
   "interpreter": {
    "hash": "949777d72b0d2535278d3dc13498b2535136f6dfe0678499012e853ee9abcab1"
   }
  }
 },
 "nbformat": 4,
 "nbformat_minor": 2
}
